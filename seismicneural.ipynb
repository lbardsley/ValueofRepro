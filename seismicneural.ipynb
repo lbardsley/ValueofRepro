{
 "cells": [
  {
   "cell_type": "code",
   "execution_count": 1,
   "metadata": {},
   "outputs": [
    {
     "name": "stdout",
     "output_type": "stream",
     "text": [
      "1.9.0\n"
     ]
    }
   ],
   "source": [
    "# TensorFlow and tf.keras\n",
    "import tensorflow as tf\n",
    "from tensorflow import keras\n",
    "\n",
    "# Helper libraries\n",
    "import numpy as np\n",
    "import matplotlib.pyplot as plt\n",
    "\n",
    "print(tf.__version__)"
   ]
  },
  {
   "cell_type": "code",
   "execution_count": 9,
   "metadata": {},
   "outputs": [
    {
     "name": "stdout",
     "output_type": "stream",
     "text": [
      "(1001, 102)\n"
     ]
    }
   ],
   "source": [
    "import imageio\n",
    "\n",
    "im = imageio.imread('D:/East_Shetland_Platform/01. RAW PSTM STACKS/RAW FULL CHUNKED/ESP2D_RAW_FULL_KPSTM_STACK_008A094_500_600.png')\n",
    "print(im.shape)"
   ]
  },
  {
   "cell_type": "code",
   "execution_count": 19,
   "metadata": {},
   "outputs": [],
   "source": [
    "raw_label = np.ones(1001)"
   ]
  },
  {
   "cell_type": "code",
   "execution_count": 23,
   "metadata": {},
   "outputs": [
    {
     "data": {
      "text/plain": [
       "(1001,)"
      ]
     },
     "execution_count": 23,
     "metadata": {},
     "output_type": "execute_result"
    }
   ],
   "source": [
    "raw_label.shape"
   ]
  },
  {
   "cell_type": "code",
   "execution_count": 24,
   "metadata": {},
   "outputs": [],
   "source": [
    "final_label = np.full(1001, 2)"
   ]
  },
  {
   "cell_type": "code",
   "execution_count": 25,
   "metadata": {},
   "outputs": [
    {
     "data": {
      "text/plain": [
       "(1001,)"
      ]
     },
     "execution_count": 25,
     "metadata": {},
     "output_type": "execute_result"
    }
   ],
   "source": [
    "final_label.shape"
   ]
  },
  {
   "cell_type": "code",
   "execution_count": 26,
   "metadata": {},
   "outputs": [
    {
     "name": "stdout",
     "output_type": "stream",
     "text": [
      "[2 2 2 ... 2 2 2]\n"
     ]
    }
   ],
   "source": [
    "print(final_label)"
   ]
  },
  {
   "cell_type": "code",
   "execution_count": 29,
   "metadata": {},
   "outputs": [],
   "source": [
    "raw_label = np.full(1001,1)"
   ]
  },
  {
   "cell_type": "code",
   "execution_count": 30,
   "metadata": {},
   "outputs": [],
   "source": [
    "import os\n",
    "\n",
    "path, dirs, files = next(os.walk(\"D:/East_Shetland_Platform/01. RAW PSTM STACKS/RAW FULL CHUNKED\"))\n",
    "file_count = len(files)"
   ]
  },
  {
   "cell_type": "code",
   "execution_count": 31,
   "metadata": {},
   "outputs": [
    {
     "name": "stdout",
     "output_type": "stream",
     "text": [
      "5898\n"
     ]
    }
   ],
   "source": [
    "print(file_count)"
   ]
  },
  {
   "cell_type": "code",
   "execution_count": 36,
   "metadata": {},
   "outputs": [],
   "source": [
    "from glob import glob                                                           \n",
    "import cv2 \n",
    "pngs = glob('C:/Users/niall/rguhack/notebooks/data/final_test_jpg/*.png')\n",
    "\n",
    "for j in pngs:\n",
    "    img = cv2.imread(j)\n",
    "    cv2.imwrite(j[:-3] + 'jpg', img)"
   ]
  },
  {
   "cell_type": "code",
   "execution_count": 37,
   "metadata": {},
   "outputs": [],
   "source": [
    "pngs = glob('C:/Users/niall/rguhack/notebooks/data/final_train_jpg/*.png')\n",
    "\n",
    "for j in pngs:\n",
    "    img = cv2.imread(j)\n",
    "    cv2.imwrite(j[:-3] + 'jpg', img)"
   ]
  },
  {
   "cell_type": "code",
   "execution_count": 38,
   "metadata": {},
   "outputs": [],
   "source": [
    "dir_name = \"C:/Users/niall/rguhack/notebooks/data/final_test_jpg\"\n",
    "test = os.listdir(dir_name)\n",
    "\n",
    "for item in test:\n",
    "    if item.endswith(\".png\"):\n",
    "        os.remove(os.path.join(dir_name, item))"
   ]
  },
  {
   "cell_type": "code",
   "execution_count": 39,
   "metadata": {},
   "outputs": [],
   "source": [
    "dir_name = \"C:/Users/niall/rguhack/notebooks/data/final_train_jpg\"\n",
    "test = os.listdir(dir_name)\n",
    "\n",
    "for item in test:\n",
    "    if item.endswith(\".png\"):\n",
    "        os.remove(os.path.join(dir_name, item))"
   ]
  },
  {
   "cell_type": "code",
   "execution_count": 40,
   "metadata": {},
   "outputs": [],
   "source": [
    "pngs = glob('C:/Users/niall/rguhack/notebooks/data/raw_test_jpg/*.png')\n",
    "\n",
    "for j in pngs:\n",
    "    img = cv2.imread(j)\n",
    "    cv2.imwrite(j[:-3] + 'jpg', img)"
   ]
  },
  {
   "cell_type": "code",
   "execution_count": 41,
   "metadata": {},
   "outputs": [],
   "source": [
    "pngs = glob('C:/Users/niall/rguhack/notebooks/data/raw_train_jpg/*.png')\n",
    "\n",
    "for j in pngs:\n",
    "    img = cv2.imread(j)\n",
    "    cv2.imwrite(j[:-3] + 'jpg', img)"
   ]
  },
  {
   "cell_type": "code",
   "execution_count": 42,
   "metadata": {},
   "outputs": [],
   "source": [
    "dir_name = \"C:/Users/niall/rguhack/notebooks/data/raw_test_jpg\"\n",
    "test = os.listdir(dir_name)\n",
    "\n",
    "for item in test:\n",
    "    if item.endswith(\".png\"):\n",
    "        os.remove(os.path.join(dir_name, item))"
   ]
  },
  {
   "cell_type": "code",
   "execution_count": 43,
   "metadata": {},
   "outputs": [],
   "source": [
    "dir_name = \"C:/Users/niall/rguhack/notebooks/data/raw_train_jpg\"\n",
    "test = os.listdir(dir_name)\n",
    "\n",
    "for item in test:\n",
    "    if item.endswith(\".png\"):\n",
    "        os.remove(os.path.join(dir_name, item))"
   ]
  },
  {
   "cell_type": "code",
   "execution_count": null,
   "metadata": {},
   "outputs": [],
   "source": []
  }
 ],
 "metadata": {
  "kernelspec": {
   "display_name": "Python 3",
   "language": "python",
   "name": "python3"
  },
  "language_info": {
   "codemirror_mode": {
    "name": "ipython",
    "version": 3
   },
   "file_extension": ".py",
   "mimetype": "text/x-python",
   "name": "python",
   "nbconvert_exporter": "python",
   "pygments_lexer": "ipython3",
   "version": "3.6.6"
  }
 },
 "nbformat": 4,
 "nbformat_minor": 2
}
